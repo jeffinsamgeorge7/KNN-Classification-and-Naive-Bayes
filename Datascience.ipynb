{
  "nbformat": 4,
  "nbformat_minor": 0,
  "metadata": {
    "colab": {
      "provenance": []
    },
    "kernelspec": {
      "name": "python3",
      "display_name": "Python 3"
    },
    "language_info": {
      "name": "python"
    }
  },
  "cells": [
    {
      "cell_type": "code",
      "execution_count": null,
      "metadata": {
        "colab": {
          "base_uri": "https://localhost:8080/"
        },
        "id": "BojYtFUb9L1c",
        "outputId": "d5167421-1975-4767-f989-351c80d2cea7"
      },
      "outputs": [
        {
          "output_type": "stream",
          "name": "stdout",
          "text": [
            "<class 'list'>\n"
          ]
        },
        {
          "output_type": "execute_result",
          "data": {
            "text/plain": [
              "['apple', 'orange']"
            ]
          },
          "metadata": {},
          "execution_count": 6
        }
      ],
      "source": [
        "mylist=[]\n",
        "print(type(mylist))\n",
        "mylist=[\"apple\",\"orange\"]\n",
        "mylist"
      ]
    },
    {
      "cell_type": "code",
      "source": [
        "import pandas as pd\n",
        "\n",
        "data={\n",
        "    \"color\":\"green\",\"item\":\"car\",\"model\":\"XUV\"\n",
        "}\n",
        "xdata=pd.Series(data)\n",
        "xdata\n",
        "ydata=xdata.tolist()\n",
        "ydata"
      ],
      "metadata": {
        "colab": {
          "base_uri": "https://localhost:8080/"
        },
        "id": "VX_Wij_zgDm6",
        "outputId": "fb160a29-5954-47f0-de35-6e6761fa0315"
      },
      "execution_count": null,
      "outputs": [
        {
          "output_type": "execute_result",
          "data": {
            "text/plain": [
              "['green', 'car', 'XUV']"
            ]
          },
          "metadata": {},
          "execution_count": 11
        }
      ]
    },
    {
      "cell_type": "code",
      "source": [
        "from pandas import Series\n",
        "\n",
        "data1=Series([100,129,231,432])\n",
        "data2=Series([200,314,124,234])\n",
        "print(data1-data2)\n",
        "print(data1+data2)"
      ],
      "metadata": {
        "colab": {
          "base_uri": "https://localhost:8080/"
        },
        "id": "WBmoG5hJpvi_",
        "outputId": "3d20a8d7-394c-4fd1-b7e3-d775bf83add9"
      },
      "execution_count": null,
      "outputs": [
        {
          "output_type": "stream",
          "name": "stdout",
          "text": [
            "0   -100\n",
            "1   -185\n",
            "2    107\n",
            "3    198\n",
            "dtype: int64\n",
            "0    300\n",
            "1    443\n",
            "2    355\n",
            "3    666\n",
            "dtype: int64\n"
          ]
        }
      ]
    },
    {
      "cell_type": "code",
      "source": [
        "from pandas import Series\n",
        "\n",
        "data={1:\"apple\",3:\"orange\",2:\"Grape\"}\n",
        "print(data)\n",
        "data1=Series(data)\n",
        "print(data1)\n",
        "print(data1.sort_index())"
      ],
      "metadata": {
        "colab": {
          "base_uri": "https://localhost:8080/"
        },
        "id": "hr3aqwDkqLdx",
        "outputId": "605cd979-f732-4c1c-a5e4-93d2b112fcff"
      },
      "execution_count": null,
      "outputs": [
        {
          "output_type": "stream",
          "name": "stdout",
          "text": [
            "{1: 'apple', 3: 'orange', 2: 'Grape'}\n",
            "1     apple\n",
            "3    orange\n",
            "2     Grape\n",
            "dtype: object\n",
            "1     apple\n",
            "2     Grape\n",
            "3    orange\n",
            "dtype: object\n"
          ]
        }
      ]
    },
    {
      "cell_type": "code",
      "source": [
        "from pandas import Series\n",
        "\n",
        "data=Series([34,56,1,2,7,8,22,32,15])\n",
        "print(data)\n",
        "print(data.mean())\n",
        "print(data.std())\n",
        "print(data.mode())"
      ],
      "metadata": {
        "colab": {
          "base_uri": "https://localhost:8080/"
        },
        "id": "FUrShlUErdka",
        "outputId": "fece07dc-13df-44f0-885d-65ae899c67ff"
      },
      "execution_count": null,
      "outputs": [
        {
          "output_type": "stream",
          "name": "stdout",
          "text": [
            "0    34\n",
            "1    56\n",
            "2     1\n",
            "3     2\n",
            "4     7\n",
            "5     8\n",
            "6    22\n",
            "7    32\n",
            "8    15\n",
            "dtype: int64\n",
            "19.666666666666668\n",
            "18.2414363469547\n",
            "0     1\n",
            "1     2\n",
            "2     7\n",
            "3     8\n",
            "4    15\n",
            "5    22\n",
            "6    32\n",
            "7    34\n",
            "8    56\n",
            "dtype: int64\n"
          ]
        }
      ]
    },
    {
      "cell_type": "code",
      "source": [
        "import pandas as pd\n",
        "import numpy as np\n",
        "\n",
        "num=np.random.RandomState(100)\n",
        "numseries=pd.Series(num.normal(10,4,20))\n",
        "numseries\n",
        "pfinal=np.percentile(numseries,q=[0,25,50,75,100])\n",
        "pfinal"
      ],
      "metadata": {
        "colab": {
          "base_uri": "https://localhost:8080/"
        },
        "id": "smbNtm9OwnGn",
        "outputId": "c82e2326-4da3-4c68-aee4-8bf2290f5b82"
      },
      "execution_count": null,
      "outputs": [
        {
          "output_type": "execute_result",
          "data": {
            "text/plain": [
              "array([ 3.00093811,  8.09463867, 10.23353705, 12.21537733, 14.61214321])"
            ]
          },
          "metadata": {},
          "execution_count": 40
        }
      ]
    },
    {
      "cell_type": "code",
      "source": [
        "from sklearn.datasets import load_wine\n",
        "from sklearn.model_selection import train_test_split\n",
        "from sklearn.neighbors import KNeighborsClassifier\n",
        "from sklearn.metrics import accuracy_score,classification_report\n",
        "\n",
        "data=load_wine()\n",
        "x=data.data\n",
        "y=data.target\n",
        "\n",
        "x_train,x_test,y_train,y_test=train_test_split(x,y,test_size=0.2,random_state=42)\n",
        "knn=KNeighborsClassifier(n_neighbors=8)\n",
        "knn.fit(x_train,y_train)\n",
        "print(knn.predict(x_test))\n",
        "\n",
        "print(knn.score(x_test,y_test))\n",
        "y_pred=knn.predict(x_test)\n",
        "print(classification_report(y_test,y_pred))\n",
        "print(accuracy_score(y_test,y_pred))"
      ],
      "metadata": {
        "id": "0RiV7RUj5e5x",
        "colab": {
          "base_uri": "https://localhost:8080/"
        },
        "outputId": "4c3532c2-48d0-461b-8e67-c678d893def2"
      },
      "execution_count": null,
      "outputs": [
        {
          "output_type": "stream",
          "name": "stdout",
          "text": [
            "[2 0 2 0 1 0 1 2 2 0 2 2 0 1 0 1 1 2 0 1 0 1 2 1 1 1 1 2 1 0 0 1 2 0 0 0]\n",
            "0.7222222222222222\n",
            "              precision    recall  f1-score   support\n",
            "\n",
            "           0       0.92      0.86      0.89        14\n",
            "           1       0.77      0.71      0.74        14\n",
            "           2       0.40      0.50      0.44         8\n",
            "\n",
            "    accuracy                           0.72        36\n",
            "   macro avg       0.70      0.69      0.69        36\n",
            "weighted avg       0.75      0.72      0.73        36\n",
            "\n",
            "0.7222222222222222\n"
          ]
        }
      ]
    },
    {
      "cell_type": "code",
      "source": [
        "from math import nan\n",
        "from pandas import DataFrame,Series\n",
        "import numpy as np\n",
        "\n",
        "\n",
        "exam={\n",
        "    'name':[\"akhil\",\"nikhil\",\"vimal\",\"suresh\"],\n",
        "    'score':[12,5,6,7],\n",
        "    'quality':[\"yes\",nan,\"no\",\"yes\"]\n",
        "}\n",
        "labels=['a','b','c','d']\n",
        "pframe=DataFrame(exam,index=labels)\n",
        "print(pframe)\n",
        "\n"
      ],
      "metadata": {
        "colab": {
          "base_uri": "https://localhost:8080/"
        },
        "id": "PeJUGWvJnpT2",
        "outputId": "feff821e-1882-4292-b5d1-e21cf2e493cc"
      },
      "execution_count": null,
      "outputs": [
        {
          "output_type": "stream",
          "name": "stdout",
          "text": [
            "     name  score quality\n",
            "a   akhil     12     yes\n",
            "b  nikhil      5     NaN\n",
            "c   vimal      6      no\n",
            "d  suresh      7     yes\n"
          ]
        }
      ]
    },
    {
      "cell_type": "code",
      "source": [
        "rows=pframe.shape[0]\n",
        "cols=pframe.shape[1]\n",
        "print(\"rows \",rows)\n",
        "print(\"cols \",cols)"
      ],
      "metadata": {
        "id": "kDD9-z8an5q_",
        "colab": {
          "base_uri": "https://localhost:8080/"
        },
        "outputId": "d9c81b68-062d-493a-f67c-797aaaa5bc74"
      },
      "execution_count": null,
      "outputs": [
        {
          "output_type": "stream",
          "name": "stdout",
          "text": [
            "rows  4\n",
            "cols  3\n"
          ]
        }
      ]
    },
    {
      "cell_type": "code",
      "source": [
        "news=pframe[pframe.isna().any(axis=1)]\n",
        "news"
      ],
      "metadata": {
        "colab": {
          "base_uri": "https://localhost:8080/",
          "height": 81
        },
        "id": "77EGeuYMt33i",
        "outputId": "cbec083c-e389-4ddf-c532-3713b471874d"
      },
      "execution_count": null,
      "outputs": [
        {
          "output_type": "execute_result",
          "data": {
            "text/plain": [
              "     name  score quality\n",
              "b  nikhil      5     NaN"
            ],
            "text/html": [
              "\n",
              "  <div id=\"df-29a93436-ebcc-4617-a459-912fca197ee8\" class=\"colab-df-container\">\n",
              "    <div>\n",
              "<style scoped>\n",
              "    .dataframe tbody tr th:only-of-type {\n",
              "        vertical-align: middle;\n",
              "    }\n",
              "\n",
              "    .dataframe tbody tr th {\n",
              "        vertical-align: top;\n",
              "    }\n",
              "\n",
              "    .dataframe thead th {\n",
              "        text-align: right;\n",
              "    }\n",
              "</style>\n",
              "<table border=\"1\" class=\"dataframe\">\n",
              "  <thead>\n",
              "    <tr style=\"text-align: right;\">\n",
              "      <th></th>\n",
              "      <th>name</th>\n",
              "      <th>score</th>\n",
              "      <th>quality</th>\n",
              "    </tr>\n",
              "  </thead>\n",
              "  <tbody>\n",
              "    <tr>\n",
              "      <th>b</th>\n",
              "      <td>nikhil</td>\n",
              "      <td>5</td>\n",
              "      <td>NaN</td>\n",
              "    </tr>\n",
              "  </tbody>\n",
              "</table>\n",
              "</div>\n",
              "    <div class=\"colab-df-buttons\">\n",
              "\n",
              "  <div class=\"colab-df-container\">\n",
              "    <button class=\"colab-df-convert\" onclick=\"convertToInteractive('df-29a93436-ebcc-4617-a459-912fca197ee8')\"\n",
              "            title=\"Convert this dataframe to an interactive table.\"\n",
              "            style=\"display:none;\">\n",
              "\n",
              "  <svg xmlns=\"http://www.w3.org/2000/svg\" height=\"24px\" viewBox=\"0 -960 960 960\">\n",
              "    <path d=\"M120-120v-720h720v720H120Zm60-500h600v-160H180v160Zm220 220h160v-160H400v160Zm0 220h160v-160H400v160ZM180-400h160v-160H180v160Zm440 0h160v-160H620v160ZM180-180h160v-160H180v160Zm440 0h160v-160H620v160Z\"/>\n",
              "  </svg>\n",
              "    </button>\n",
              "\n",
              "  <style>\n",
              "    .colab-df-container {\n",
              "      display:flex;\n",
              "      gap: 12px;\n",
              "    }\n",
              "\n",
              "    .colab-df-convert {\n",
              "      background-color: #E8F0FE;\n",
              "      border: none;\n",
              "      border-radius: 50%;\n",
              "      cursor: pointer;\n",
              "      display: none;\n",
              "      fill: #1967D2;\n",
              "      height: 32px;\n",
              "      padding: 0 0 0 0;\n",
              "      width: 32px;\n",
              "    }\n",
              "\n",
              "    .colab-df-convert:hover {\n",
              "      background-color: #E2EBFA;\n",
              "      box-shadow: 0px 1px 2px rgba(60, 64, 67, 0.3), 0px 1px 3px 1px rgba(60, 64, 67, 0.15);\n",
              "      fill: #174EA6;\n",
              "    }\n",
              "\n",
              "    .colab-df-buttons div {\n",
              "      margin-bottom: 4px;\n",
              "    }\n",
              "\n",
              "    [theme=dark] .colab-df-convert {\n",
              "      background-color: #3B4455;\n",
              "      fill: #D2E3FC;\n",
              "    }\n",
              "\n",
              "    [theme=dark] .colab-df-convert:hover {\n",
              "      background-color: #434B5C;\n",
              "      box-shadow: 0px 1px 3px 1px rgba(0, 0, 0, 0.15);\n",
              "      filter: drop-shadow(0px 1px 2px rgba(0, 0, 0, 0.3));\n",
              "      fill: #FFFFFF;\n",
              "    }\n",
              "  </style>\n",
              "\n",
              "    <script>\n",
              "      const buttonEl =\n",
              "        document.querySelector('#df-29a93436-ebcc-4617-a459-912fca197ee8 button.colab-df-convert');\n",
              "      buttonEl.style.display =\n",
              "        google.colab.kernel.accessAllowed ? 'block' : 'none';\n",
              "\n",
              "      async function convertToInteractive(key) {\n",
              "        const element = document.querySelector('#df-29a93436-ebcc-4617-a459-912fca197ee8');\n",
              "        const dataTable =\n",
              "          await google.colab.kernel.invokeFunction('convertToInteractive',\n",
              "                                                    [key], {});\n",
              "        if (!dataTable) return;\n",
              "\n",
              "        const docLinkHtml = 'Like what you see? Visit the ' +\n",
              "          '<a target=\"_blank\" href=https://colab.research.google.com/notebooks/data_table.ipynb>data table notebook</a>'\n",
              "          + ' to learn more about interactive tables.';\n",
              "        element.innerHTML = '';\n",
              "        dataTable['output_type'] = 'display_data';\n",
              "        await google.colab.output.renderOutput(dataTable, element);\n",
              "        const docLink = document.createElement('div');\n",
              "        docLink.innerHTML = docLinkHtml;\n",
              "        element.appendChild(docLink);\n",
              "      }\n",
              "    </script>\n",
              "  </div>\n",
              "\n",
              "    </div>\n",
              "  </div>\n"
            ]
          },
          "metadata": {},
          "execution_count": 38
        }
      ]
    },
    {
      "cell_type": "code",
      "source": [
        "#Linear Regression\n",
        "\n",
        "import numpy as np\n",
        "import matplotlib.pyplot as plt\n",
        "from sklearn.linear_model import LinearRegression\n",
        "\n",
        "np.random.seed(0)\n",
        "x=2*np.random.rand(100,1)\n",
        "y=4+3*x+np.random.randn(100,1)\n",
        "\n",
        "model=LinearRegression()\n",
        "model.fit(x,y)\n",
        "\n",
        "x_new=np.array([[0],[2]])\n",
        "y_pred=model.predict(x_new)\n",
        "\n",
        "plt.scatter(x,y,label=\"samble data\")\n",
        "plt.plot(x_new,y_pred,'r',label=\"Linear Regression\")\n",
        "plt.xlabel(\"indeoendent variable\")\n",
        "plt.ylabel(\"dependent variable\")\n",
        "plt.title(\"Linear Regression\")"
      ],
      "metadata": {
        "colab": {
          "base_uri": "https://localhost:8080/",
          "height": 489
        },
        "id": "ZPWVNs90uM8I",
        "outputId": "4f1229ed-2345-4d5b-8d36-12fdd1e191d2"
      },
      "execution_count": null,
      "outputs": [
        {
          "output_type": "execute_result",
          "data": {
            "text/plain": [
              "Text(0.5, 1.0, 'Linear Regression')"
            ]
          },
          "metadata": {},
          "execution_count": 58
        },
        {
          "output_type": "display_data",
          "data": {
            "text/plain": [
              "<Figure size 640x480 with 1 Axes>"
            ],
            "image/png": "[encoded data removed]"
          },
          "metadata": {}
        }
      ]
    },
    {
      "cell_type": "code",
      "source": [
        "#neural network\n",
        "\n",
        "import numpy as np\n",
        "from tensorflow import keras\n",
        "from tensorflow.keras.models import Sequential\n",
        "from tensorflow.keras.layers import Dense\n",
        "from sklearn import datasets\n",
        "from sklearn.model_selection import train_test_split\n",
        "from sklearn.preprocessing import StandardScaler,LabelBinarizer\n",
        "\n",
        "data=datasets.load_iris()\n",
        "x=data.data\n",
        "y=data.target\n",
        "\n",
        "X_train,X_test,y_train,y_test=train_test_split(x,y,test_size=0.2,random_state=42)\n",
        "\n",
        "scaler=StandardScaler()\n",
        "X_train=scaler.fit_transform(X_train)\n",
        "X_test=scaler.fit_transform(X_test)\n",
        "\n",
        "lb=LabelBinarizer()\n",
        "y_train=lb.fit_transform(y_train)\n",
        "y_test=lb.fit_transform(y_test)\n",
        "\n",
        "model=Sequential()\n",
        "model.add(Dense(8,input_dim=4,activation=\"relu\"))\n",
        "model.add(Dense(3,activation=\"softmax\"))\n",
        "\n",
        "model.compile(loss='categorical_crossentropy',optimizer='adam',metrics=['accuracy'])\n",
        "model.fit(X_train,y_train,epochs=100, batch_size=100 ,verbose=1)\n",
        "\n"
      ],
      "metadata": {
        "colab": {
          "base_uri": "https://localhost:8080/"
        },
        "id": "G5k2AUxNS0VT",
        "outputId": "fd7f43f1-efb1-4771-d413-bad5434aa55b"
      },
      "execution_count": 12,
      "outputs": [
        {
          "output_type": "stream",
          "name": "stdout",
          "text": [
            "Epoch 1/100\n",
            "2/2 [==============================] - 1s 16ms/step - loss: 1.5266 - accuracy: 0.1917\n",
            "Epoch 2/100\n",
            "2/2 [==============================] - 0s 23ms/step - loss: 1.5105 - accuracy: 0.1917\n",
            "Epoch 3/100\n",
            "2/2 [==============================] - 0s 15ms/step - loss: 1.4942 - accuracy: 0.1833\n",
            "Epoch 4/100\n",
            "2/2 [==============================] - 0s 35ms/step - loss: 1.4793 - accuracy: 0.1833\n",
            "Epoch 5/100\n",
            "2/2 [==============================] - 0s 9ms/step - loss: 1.4641 - accuracy: 0.1833\n",
            "Epoch 6/100\n",
            "2/2 [==============================] - 0s 10ms/step - loss: 1.4495 - accuracy: 0.1833\n",
            "Epoch 7/100\n",
            "2/2 [==============================] - 0s 16ms/step - loss: 1.4347 - accuracy: 0.1833\n",
            "Epoch 8/100\n",
            "2/2 [==============================] - 0s 11ms/step - loss: 1.4205 - accuracy: 0.1833\n",
            "Epoch 9/100\n",
            "2/2 [==============================] - 0s 11ms/step - loss: 1.4068 - accuracy: 0.1833\n",
            "Epoch 10/100\n",
            "2/2 [==============================] - 0s 13ms/step - loss: 1.3926 - accuracy: 0.1917\n",
            "Epoch 11/100\n",
            "2/2 [==============================] - 0s 11ms/step - loss: 1.3793 - accuracy: 0.1917\n",
            "Epoch 12/100\n",
            "2/2 [==============================] - 0s 12ms/step - loss: 1.3653 - accuracy: 0.1917\n",
            "Epoch 13/100\n",
            "2/2 [==============================] - 0s 12ms/step - loss: 1.3520 - accuracy: 0.1917\n",
            "Epoch 14/100\n",
            "2/2 [==============================] - 0s 12ms/step - loss: 1.3385 - accuracy: 0.1917\n",
            "Epoch 15/100\n",
            "2/2 [==============================] - 0s 11ms/step - loss: 1.3256 - accuracy: 0.1833\n",
            "Epoch 16/100\n",
            "2/2 [==============================] - 0s 19ms/step - loss: 1.3120 - accuracy: 0.1833\n",
            "Epoch 17/100\n",
            "2/2 [==============================] - 0s 11ms/step - loss: 1.2995 - accuracy: 0.1917\n",
            "Epoch 18/100\n",
            "2/2 [==============================] - 0s 10ms/step - loss: 1.2865 - accuracy: 0.1917\n",
            "Epoch 19/100\n",
            "2/2 [==============================] - 0s 11ms/step - loss: 1.2744 - accuracy: 0.1917\n",
            "Epoch 20/100\n",
            "2/2 [==============================] - 0s 13ms/step - loss: 1.2615 - accuracy: 0.1917\n",
            "Epoch 21/100\n",
            "2/2 [==============================] - 0s 12ms/step - loss: 1.2502 - accuracy: 0.1833\n",
            "Epoch 22/100\n",
            "2/2 [==============================] - 0s 13ms/step - loss: 1.2380 - accuracy: 0.1833\n",
            "Epoch 23/100\n",
            "2/2 [==============================] - 0s 13ms/step - loss: 1.2266 - accuracy: 0.1833\n",
            "Epoch 24/100\n",
            "2/2 [==============================] - 0s 11ms/step - loss: 1.2148 - accuracy: 0.1750\n",
            "Epoch 25/100\n",
            "2/2 [==============================] - 0s 11ms/step - loss: 1.2038 - accuracy: 0.1667\n",
            "Epoch 26/100\n",
            "2/2 [==============================] - 0s 12ms/step - loss: 1.1922 - accuracy: 0.1667\n",
            "Epoch 27/100\n",
            "2/2 [==============================] - 0s 14ms/step - loss: 1.1814 - accuracy: 0.1667\n",
            "Epoch 28/100\n",
            "2/2 [==============================] - 0s 11ms/step - loss: 1.1707 - accuracy: 0.1750\n",
            "Epoch 29/100\n",
            "2/2 [==============================] - 0s 11ms/step - loss: 1.1598 - accuracy: 0.1750\n",
            "Epoch 30/100\n",
            "2/2 [==============================] - 0s 11ms/step - loss: 1.1493 - accuracy: 0.1667\n",
            "Epoch 31/100\n",
            "2/2 [==============================] - 0s 12ms/step - loss: 1.1393 - accuracy: 0.1667\n",
            "Epoch 32/100\n",
            "2/2 [==============================] - 0s 11ms/step - loss: 1.1289 - accuracy: 0.1667\n",
            "Epoch 33/100\n",
            "2/2 [==============================] - 0s 12ms/step - loss: 1.1193 - accuracy: 0.1917\n",
            "Epoch 34/100\n",
            "2/2 [==============================] - 0s 13ms/step - loss: 1.1090 - accuracy: 0.2083\n",
            "Epoch 35/100\n",
            "2/2 [==============================] - 0s 12ms/step - loss: 1.0997 - accuracy: 0.2417\n",
            "Epoch 36/100\n",
            "2/2 [==============================] - 0s 11ms/step - loss: 1.0901 - accuracy: 0.2750\n",
            "Epoch 37/100\n",
            "2/2 [==============================] - 0s 15ms/step - loss: 1.0807 - accuracy: 0.2833\n",
            "Epoch 38/100\n",
            "2/2 [==============================] - 0s 19ms/step - loss: 1.0714 - accuracy: 0.2833\n",
            "Epoch 39/100\n",
            "2/2 [==============================] - 0s 10ms/step - loss: 1.0624 - accuracy: 0.3083\n",
            "Epoch 40/100\n",
            "2/2 [==============================] - 0s 10ms/step - loss: 1.0532 - accuracy: 0.3417\n",
            "Epoch 41/100\n",
            "2/2 [==============================] - 0s 9ms/step - loss: 1.0442 - accuracy: 0.3500\n",
            "Epoch 42/100\n",
            "2/2 [==============================] - 0s 8ms/step - loss: 1.0355 - accuracy: 0.3667\n",
            "Epoch 43/100\n",
            "2/2 [==============================] - 0s 7ms/step - loss: 1.0266 - accuracy: 0.3750\n",
            "Epoch 44/100\n",
            "2/2 [==============================] - 0s 8ms/step - loss: 1.0178 - accuracy: 0.3833\n",
            "Epoch 45/100\n",
            "2/2 [==============================] - 0s 9ms/step - loss: 1.0092 - accuracy: 0.3917\n",
            "Epoch 46/100\n",
            "2/2 [==============================] - 0s 8ms/step - loss: 1.0007 - accuracy: 0.3917\n",
            "Epoch 47/100\n",
            "2/2 [==============================] - 0s 8ms/step - loss: 0.9922 - accuracy: 0.4000\n",
            "Epoch 48/100\n",
            "2/2 [==============================] - 0s 11ms/step - loss: 0.9837 - accuracy: 0.4167\n",
            "Epoch 49/100\n",
            "2/2 [==============================] - 0s 11ms/step - loss: 0.9755 - accuracy: 0.4250\n",
            "Epoch 50/100\n",
            "2/2 [==============================] - 0s 10ms/step - loss: 0.9672 - accuracy: 0.4417\n",
            "Epoch 51/100\n",
            "2/2 [==============================] - 0s 8ms/step - loss: 0.9592 - accuracy: 0.4500\n",
            "Epoch 52/100\n",
            "2/2 [==============================] - 0s 9ms/step - loss: 0.9513 - accuracy: 0.4500\n",
            "Epoch 53/100\n",
            "2/2 [==============================] - 0s 10ms/step - loss: 0.9433 - accuracy: 0.4583\n",
            "Epoch 54/100\n",
            "2/2 [==============================] - 0s 10ms/step - loss: 0.9356 - accuracy: 0.4583\n",
            "Epoch 55/100\n",
            "2/2 [==============================] - 0s 10ms/step - loss: 0.9279 - accuracy: 0.4750\n",
            "Epoch 56/100\n",
            "2/2 [==============================] - 0s 9ms/step - loss: 0.9204 - accuracy: 0.4833\n",
            "Epoch 57/100\n",
            "2/2 [==============================] - 0s 8ms/step - loss: 0.9130 - accuracy: 0.5083\n",
            "Epoch 58/100\n",
            "2/2 [==============================] - 0s 10ms/step - loss: 0.9055 - accuracy: 0.5500\n",
            "Epoch 59/100\n",
            "2/2 [==============================] - 0s 8ms/step - loss: 0.8983 - accuracy: 0.5750\n",
            "Epoch 60/100\n",
            "2/2 [==============================] - 0s 7ms/step - loss: 0.8912 - accuracy: 0.6000\n",
            "Epoch 61/100\n",
            "2/2 [==============================] - 0s 7ms/step - loss: 0.8840 - accuracy: 0.6167\n",
            "Epoch 62/100\n",
            "2/2 [==============================] - 0s 8ms/step - loss: 0.8771 - accuracy: 0.6500\n",
            "Epoch 63/100\n",
            "2/2 [==============================] - 0s 8ms/step - loss: 0.8702 - accuracy: 0.6583\n",
            "Epoch 64/100\n",
            "2/2 [==============================] - 0s 9ms/step - loss: 0.8635 - accuracy: 0.6417\n",
            "Epoch 65/100\n",
            "2/2 [==============================] - 0s 8ms/step - loss: 0.8568 - accuracy: 0.6417\n",
            "Epoch 66/100\n",
            "2/2 [==============================] - 0s 9ms/step - loss: 0.8503 - accuracy: 0.6500\n",
            "Epoch 67/100\n",
            "2/2 [==============================] - 0s 10ms/step - loss: 0.8438 - accuracy: 0.6583\n",
            "Epoch 68/100\n",
            "2/2 [==============================] - 0s 10ms/step - loss: 0.8373 - accuracy: 0.6583\n",
            "Epoch 69/100\n",
            "2/2 [==============================] - 0s 8ms/step - loss: 0.8311 - accuracy: 0.6750\n",
            "Epoch 70/100\n",
            "2/2 [==============================] - 0s 8ms/step - loss: 0.8247 - accuracy: 0.6750\n",
            "Epoch 71/100\n",
            "2/2 [==============================] - 0s 8ms/step - loss: 0.8187 - accuracy: 0.6583\n",
            "Epoch 72/100\n",
            "2/2 [==============================] - 0s 9ms/step - loss: 0.8124 - accuracy: 0.6583\n",
            "Epoch 73/100\n",
            "2/2 [==============================] - 0s 8ms/step - loss: 0.8064 - accuracy: 0.6583\n",
            "Epoch 74/100\n",
            "2/2 [==============================] - 0s 9ms/step - loss: 0.8004 - accuracy: 0.6583\n",
            "Epoch 75/100\n",
            "2/2 [==============================] - 0s 9ms/step - loss: 0.7945 - accuracy: 0.6667\n",
            "Epoch 76/100\n",
            "2/2 [==============================] - 0s 9ms/step - loss: 0.7887 - accuracy: 0.6750\n",
            "Epoch 77/100\n",
            "2/2 [==============================] - 0s 8ms/step - loss: 0.7830 - accuracy: 0.6750\n",
            "Epoch 78/100\n",
            "2/2 [==============================] - 0s 9ms/step - loss: 0.7772 - accuracy: 0.6750\n",
            "Epoch 79/100\n",
            "2/2 [==============================] - 0s 8ms/step - loss: 0.7715 - accuracy: 0.6750\n",
            "Epoch 80/100\n",
            "2/2 [==============================] - 0s 10ms/step - loss: 0.7660 - accuracy: 0.6750\n",
            "Epoch 81/100\n",
            "2/2 [==============================] - 0s 7ms/step - loss: 0.7605 - accuracy: 0.6750\n",
            "Epoch 82/100\n",
            "2/2 [==============================] - 0s 8ms/step - loss: 0.7549 - accuracy: 0.6750\n",
            "Epoch 83/100\n",
            "2/2 [==============================] - 0s 8ms/step - loss: 0.7498 - accuracy: 0.6750\n",
            "Epoch 84/100\n",
            "2/2 [==============================] - 0s 8ms/step - loss: 0.7445 - accuracy: 0.6750\n",
            "Epoch 85/100\n",
            "2/2 [==============================] - 0s 9ms/step - loss: 0.7393 - accuracy: 0.6750\n",
            "Epoch 86/100\n",
            "2/2 [==============================] - 0s 9ms/step - loss: 0.7342 - accuracy: 0.6750\n",
            "Epoch 87/100\n",
            "2/2 [==============================] - 0s 9ms/step - loss: 0.7292 - accuracy: 0.6833\n",
            "Epoch 88/100\n",
            "2/2 [==============================] - 0s 9ms/step - loss: 0.7242 - accuracy: 0.6917\n",
            "Epoch 89/100\n",
            "2/2 [==============================] - 0s 10ms/step - loss: 0.7193 - accuracy: 0.6917\n",
            "Epoch 90/100\n",
            "2/2 [==============================] - 0s 9ms/step - loss: 0.7144 - accuracy: 0.6917\n",
            "Epoch 91/100\n",
            "2/2 [==============================] - 0s 8ms/step - loss: 0.7096 - accuracy: 0.7000\n",
            "Epoch 92/100\n",
            "2/2 [==============================] - 0s 8ms/step - loss: 0.7048 - accuracy: 0.7000\n",
            "Epoch 93/100\n",
            "2/2 [==============================] - 0s 8ms/step - loss: 0.7001 - accuracy: 0.7083\n",
            "Epoch 94/100\n",
            "2/2 [==============================] - 0s 11ms/step - loss: 0.6954 - accuracy: 0.7083\n",
            "Epoch 95/100\n",
            "2/2 [==============================] - 0s 8ms/step - loss: 0.6908 - accuracy: 0.7083\n",
            "Epoch 96/100\n",
            "2/2 [==============================] - 0s 8ms/step - loss: 0.6861 - accuracy: 0.7083\n",
            "Epoch 97/100\n",
            "2/2 [==============================] - 0s 9ms/step - loss: 0.6815 - accuracy: 0.7167\n",
            "Epoch 98/100\n",
            "2/2 [==============================] - 0s 8ms/step - loss: 0.6770 - accuracy: 0.7083\n",
            "Epoch 99/100\n",
            "2/2 [==============================] - 0s 8ms/step - loss: 0.6724 - accuracy: 0.7083\n",
            "Epoch 100/100\n",
            "2/2 [==============================] - 0s 9ms/step - loss: 0.6682 - accuracy: 0.7083\n"
          ]
        },
        {
          "output_type": "execute_result",
          "data": {
            "text/plain": [
              "<keras.src.callbacks.History at 0x7ee1315da560>"
            ]
          },
          "metadata": {},
          "execution_count": 12
        }
      ]
    },
    {
      "cell_type": "code",
      "source": [
        "loss,accuracy=model.evaluate(X_test,y_test)\n",
        "print(\"loss \",loss)\n",
        "print(\"accuracy \",accuracy)"
      ],
      "metadata": {
        "colab": {
          "base_uri": "https://localhost:8080/"
        },
        "id": "_SBQZiyOXwz4",
        "outputId": "365ccd7b-dc93-4a89-8c37-b8c864dcd59b"
      },
      "execution_count": 13,
      "outputs": [
        {
          "output_type": "stream",
          "name": "stdout",
          "text": [
            "1/1 [==============================] - 0s 239ms/step - loss: 0.6388 - accuracy: 0.8000\n",
            "loss  0.6388170123100281\n",
            "accuracy  0.800000011920929\n"
          ]
        }
      ]
    },
    {
      "cell_type": "code",
      "source": [
        "import numpy as np\n",
        "import matplotlib.pyplot as plt\n",
        "from keras.layers import Dense,Flatten\n",
        "from keras.models import Sequential\n",
        "from keras.utils import to_categorical\n",
        "from keras.datasets import mnist\n",
        "\n",
        "(x_train,y_train),(x_test,y_test)=mnist.load_data()\n",
        "print(x_train.shape)\n",
        "print(x_test.shape)\n",
        "\n",
        "print(y_train)\n",
        "print(y_test)\n",
        "fig,axes=plt.subplots(1,5,sharex=False,sharey=True,figsize=(10,4))\n",
        "\n",
        "for i in range(5):\n",
        "  axes[i].set_title(str(y_train[i]))\n",
        "  axes[i].imshow(x_train[i],cmap='gray')\n",
        "  axes[i].get_yaxis().set_visible(False)\n",
        "plt.show()"
      ],
      "metadata": {
        "colab": {
          "base_uri": "https://localhost:8080/",
          "height": 285
        },
        "id": "rnsxr9c4Ybys",
        "outputId": "05b804b8-8401-43ec-e5c3-c9a66fcd9f38"
      },
      "execution_count": 44,
      "outputs": [
        {
          "output_type": "stream",
          "name": "stdout",
          "text": [
            "(60000, 28, 28)\n",
            "(10000, 28, 28)\n",
            "[5 0 4 ... 5 6 8]\n",
            "[7 2 1 ... 4 5 6]\n"
          ]
        },
        {
          "output_type": "display_data",
          "data": {
            "text/plain": [
              "<Figure size 1000x400 with 5 Axes>"
            ],
            "image/png": "[encoded data removed]"
          },
          "metadata": {}
        }
      ]
    },
    {
      "cell_type": "code",
      "source": [],
      "metadata": {
        "id": "6fIdhMNenEs_"
      },
      "execution_count": null,
      "outputs": []
    }
  ]
}