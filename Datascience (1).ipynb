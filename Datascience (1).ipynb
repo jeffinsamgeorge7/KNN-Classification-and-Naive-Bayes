{
  "nbformat": 4,
  "nbformat_minor": 0,
  "metadata": {
    "colab": {
      "provenance": []
    },
    "kernelspec": {
      "name": "python3",
      "display_name": "Python 3"
    },
    "language_info": {
      "name": "python"
    }
  },
  "cells": [
    {
      "cell_type": "code",
      "execution_count": null,
      "metadata": {
        "colab": {
          "base_uri": "https://localhost:8080/"
        },
        "id": "BojYtFUb9L1c",
        "outputId": "d5167421-1975-4767-f989-351c80d2cea7"
      },
      "outputs": [
        {
          "output_type": "stream",
          "name": "stdout",
          "text": [
            "<class 'list'>\n"
          ]
        },
        {
          "output_type": "execute_result",
          "data": {
            "text/plain": [
              "['apple', 'orange']"
            ]
          },
          "metadata": {},
          "execution_count": 6
        }
      ],
      "source": [
        "mylist=[]\n",
        "print(type(mylist))\n",
        "mylist=[\"apple\",\"orange\"]\n",
        "mylist"
      ]
    },
    {
      "cell_type": "code",
      "source": [
        "import pandas as pd\n",
        "\n",
        "data={\n",
        "    \"color\":\"green\",\"item\":\"car\",\"model\":\"XUV\"\n",
        "}\n",
        "xdata=pd.Series(data)\n",
        "xdata\n",
        "ydata=xdata.tolist()\n",
        "ydata"
      ],
      "metadata": {
        "colab": {
          "base_uri": "https://localhost:8080/"
        },
        "id": "VX_Wij_zgDm6",
        "outputId": "fb160a29-5954-47f0-de35-6e6761fa0315"
      },
      "execution_count": null,
      "outputs": [
        {
          "output_type": "execute_result",
          "data": {
            "text/plain": [
              "['green', 'car', 'XUV']"
            ]
          },
          "metadata": {},
          "execution_count": 11
        }
      ]
    },
    {
      "cell_type": "code",
      "source": [
        "from pandas import Series\n",
        "\n",
        "data1=Series([100,129,231,432])\n",
        "data2=Series([200,314,124,234])\n",
        "print(data1-data2)\n",
        "print(data1+data2)"
      ],
      "metadata": {
        "colab": {
          "base_uri": "https://localhost:8080/"
        },
        "id": "WBmoG5hJpvi_",
        "outputId": "3d20a8d7-394c-4fd1-b7e3-d775bf83add9"
      },
      "execution_count": null,
      "outputs": [
        {
          "output_type": "stream",
          "name": "stdout",
          "text": [
            "0   -100\n",
            "1   -185\n",
            "2    107\n",
            "3    198\n",
            "dtype: int64\n",
            "0    300\n",
            "1    443\n",
            "2    355\n",
            "3    666\n",
            "dtype: int64\n"
          ]
        }
      ]
    },
    {
      "cell_type": "code",
      "source": [
        "from pandas import Series\n",
        "\n",
        "data={1:\"apple\",3:\"orange\",2:\"Grape\"}\n",
        "print(data)\n",
        "data1=Series(data)\n",
        "print(data1)\n",
        "print(data1.sort_index())"
      ],
      "metadata": {
        "colab": {
          "base_uri": "https://localhost:8080/"
        },
        "id": "hr3aqwDkqLdx",
        "outputId": "605cd979-f732-4c1c-a5e4-93d2b112fcff"
      },
      "execution_count": null,
      "outputs": [
        {
          "output_type": "stream",
          "name": "stdout",
          "text": [
            "{1: 'apple', 3: 'orange', 2: 'Grape'}\n",
            "1     apple\n",
            "3    orange\n",
            "2     Grape\n",
            "dtype: object\n",
            "1     apple\n",
            "2     Grape\n",
            "3    orange\n",
            "dtype: object\n"
          ]
        }
      ]
    },
    {
      "cell_type": "code",
      "source": [
        "from pandas import Series\n",
        "\n",
        "data=Series([34,56,1,2,7,8,22,32,15])\n",
        "print(data)\n",
        "print(data.mean())\n",
        "print(data.std())\n",
        "print(data.mode())"
      ],
      "metadata": {
        "colab": {
          "base_uri": "https://localhost:8080/"
        },
        "id": "FUrShlUErdka",
        "outputId": "fece07dc-13df-44f0-885d-65ae899c67ff"
      },
      "execution_count": null,
      "outputs": [
        {
          "output_type": "stream",
          "name": "stdout",
          "text": [
            "0    34\n",
            "1    56\n",
            "2     1\n",
            "3     2\n",
            "4     7\n",
            "5     8\n",
            "6    22\n",
            "7    32\n",
            "8    15\n",
            "dtype: int64\n",
            "19.666666666666668\n",
            "18.2414363469547\n",
            "0     1\n",
            "1     2\n",
            "2     7\n",
            "3     8\n",
            "4    15\n",
            "5    22\n",
            "6    32\n",
            "7    34\n",
            "8    56\n",
            "dtype: int64\n"
          ]
        }
      ]
    },
    {
      "cell_type": "code",
      "source": [
        "import pandas as pd\n",
        "import numpy as np\n",
        "\n",
        "num=np.random.RandomState(100)\n",
        "numseries=pd.Series(num.normal(10,4,20))\n",
        "numseries\n",
        "pfinal=np.percentile(numseries,q=[0,25,50,75,100])\n",
        "pfinal"
      ],
      "metadata": {
        "colab": {
          "base_uri": "https://localhost:8080/"
        },
        "id": "smbNtm9OwnGn",
        "outputId": "c82e2326-4da3-4c68-aee4-8bf2290f5b82"
      },
      "execution_count": null,
      "outputs": [
        {
          "output_type": "execute_result",
          "data": {
            "text/plain": [
              "array([ 3.00093811,  8.09463867, 10.23353705, 12.21537733, 14.61214321])"
            ]
          },
          "metadata": {},
          "execution_count": 40
        }
      ]
    },
    {
      "cell_type": "code",
      "source": [
        "from sklearn.datasets import load_wine\n",
        "from sklearn.model_selection import train_test_split\n",
        "from sklearn.neighbors import KNeighborsClassifier\n",
        "from sklearn.metrics import accuracy_score,classification_report\n",
        "\n",
        "data=load_wine()\n",
        "x=data.data\n",
        "y=data.target\n",
        "\n",
        "x_train,x_test,y_train,y_test=train_test_split(x,y,test_size=0.2,random_state=42)\n",
        "knn=KNeighborsClassifier(n_neighbors=8)\n",
        "knn.fit(x_train,y_train)\n",
        "print(knn.predict(x_test))\n",
        "\n",
        "print(knn.score(x_test,y_test))\n",
        "y_pred=knn.predict(x_test)\n",
        "print(classification_report(y_test,y_pred))\n",
        "print(accuracy_score(y_test,y_pred))"
      ],
      "metadata": {
        "id": "0RiV7RUj5e5x",
        "colab": {
          "base_uri": "https://localhost:8080/"
        },
        "outputId": "4c3532c2-48d0-461b-8e67-c678d893def2"
      },
      "execution_count": null,
      "outputs": [
        {
          "output_type": "stream",
          "name": "stdout",
          "text": [
            "[2 0 2 0 1 0 1 2 2 0 2 2 0 1 0 1 1 2 0 1 0 1 2 1 1 1 1 2 1 0 0 1 2 0 0 0]\n",
            "0.7222222222222222\n",
            "              precision    recall  f1-score   support\n",
            "\n",
            "           0       0.92      0.86      0.89        14\n",
            "           1       0.77      0.71      0.74        14\n",
            "           2       0.40      0.50      0.44         8\n",
            "\n",
            "    accuracy                           0.72        36\n",
            "   macro avg       0.70      0.69      0.69        36\n",
            "weighted avg       0.75      0.72      0.73        36\n",
            "\n",
            "0.7222222222222222\n"
          ]
        }
      ]
    },
    {
      "cell_type": "code",
      "source": [
        "from math import nan\n",
        "from pandas import DataFrame,Series\n",
        "import numpy as np\n",
        "\n",
        "\n",
        "exam={\n",
        "    'name':[\"akhil\",\"nikhil\",\"vimal\",\"suresh\"],\n",
        "    'score':[12,5,6,7],\n",
        "    'quality':[\"yes\",nan,\"no\",\"yes\"]\n",
        "}\n",
        "labels=['a','b','c','d']\n",
        "pframe=DataFrame(exam,index=labels)\n",
        "print(pframe)\n",
        "\n"
      ],
      "metadata": {
        "colab": {
          "base_uri": "https://localhost:8080/"
        },
        "id": "PeJUGWvJnpT2",
        "outputId": "feff821e-1882-4292-b5d1-e21cf2e493cc"
      },
      "execution_count": null,
      "outputs": [
        {
          "output_type": "stream",
          "name": "stdout",
          "text": [
            "     name  score quality\n",
            "a   akhil     12     yes\n",
            "b  nikhil      5     NaN\n",
            "c   vimal      6      no\n",
            "d  suresh      7     yes\n"
          ]
        }
      ]
    },
    {
      "cell_type": "code",
      "source": [
        "rows=pframe.shape[0]\n",
        "cols=pframe.shape[1]\n",
        "print(\"rows \",rows)\n",
        "print(\"cols \",cols)"
      ],
      "metadata": {
        "id": "kDD9-z8an5q_",
        "colab": {
          "base_uri": "https://localhost:8080/"
        },
        "outputId": "d9c81b68-062d-493a-f67c-797aaaa5bc74"
      },
      "execution_count": null,
      "outputs": [
        {
          "output_type": "stream",
          "name": "stdout",
          "text": [
            "rows  4\n",
            "cols  3\n"
          ]
        }
      ]
    },
    {
      "cell_type": "code",
      "source": [
        "news=pframe[pframe.isna().any(axis=1)]\n",
        "news"
      ],
      "metadata": {
        "colab": {
          "base_uri": "https://localhost:8080/",
          "height": 81
        },
        "id": "77EGeuYMt33i",
        "outputId": "cbec083c-e389-4ddf-c532-3713b471874d"
      },
      "execution_count": null,
      "outputs": [
        {
          "output_type": "execute_result",
          "data": {
            "text/plain": [
              "     name  score quality\n",
              "b  nikhil      5     NaN"
            ],
            "text/html": [
              "\n",
              "  <div id=\"df-29a93436-ebcc-4617-a459-912fca197ee8\" class=\"colab-df-container\">\n",
              "    <div>\n",
              "<style scoped>\n",
              "    .dataframe tbody tr th:only-of-type {\n",
              "        vertical-align: middle;\n",
              "    }\n",
              "\n",
              "    .dataframe tbody tr th {\n",
              "        vertical-align: top;\n",
              "    }\n",
              "\n",
              "    .dataframe thead th {\n",
              "        text-align: right;\n",
              "    }\n",
              "</style>\n",
              "<table border=\"1\" class=\"dataframe\">\n",
              "  <thead>\n",
              "    <tr style=\"text-align: right;\">\n",
              "      <th></th>\n",
              "      <th>name</th>\n",
              "      <th>score</th>\n",
              "      <th>quality</th>\n",
              "    </tr>\n",
              "  </thead>\n",
              "  <tbody>\n",
              "    <tr>\n",
              "      <th>b</th>\n",
              "      <td>nikhil</td>\n",
              "      <td>5</td>\n",
              "      <td>NaN</td>\n",
              "    </tr>\n",
              "  </tbody>\n",
              "</table>\n",
              "</div>\n",
              "    <div class=\"colab-df-buttons\">\n",
              "\n",
              "  <div class=\"colab-df-container\">\n",
              "    <button class=\"colab-df-convert\" onclick=\"convertToInteractive('df-29a93436-ebcc-4617-a459-912fca197ee8')\"\n",
              "            title=\"Convert this dataframe to an interactive table.\"\n",
              "            style=\"display:none;\">\n",
              "\n",
              "  <svg xmlns=\"http://www.w3.org/2000/svg\" height=\"24px\" viewBox=\"0 -960 960 960\">\n",
              "    <path d=\"M120-120v-720h720v720H120Zm60-500h600v-160H180v160Zm220 220h160v-160H400v160Zm0 220h160v-160H400v160ZM180-400h160v-160H180v160Zm440 0h160v-160H620v160ZM180-180h160v-160H180v160Zm440 0h160v-160H620v160Z\"/>\n",
              "  </svg>\n",
              "    </button>\n",
              "\n",
              "  <style>\n",
              "    .colab-df-container {\n",
              "      display:flex;\n",
              "      gap: 12px;\n",
              "    }\n",
              "\n",
              "    .colab-df-convert {\n",
              "      background-color: #E8F0FE;\n",
              "      border: none;\n",
              "      border-radius: 50%;\n",
              "      cursor: pointer;\n",
              "      display: none;\n",
              "      fill: #1967D2;\n",
              "      height: 32px;\n",
              "      padding: 0 0 0 0;\n",
              "      width: 32px;\n",
              "    }\n",
              "\n",
              "    .colab-df-convert:hover {\n",
              "      background-color: #E2EBFA;\n",
              "      box-shadow: 0px 1px 2px rgba(60, 64, 67, 0.3), 0px 1px 3px 1px rgba(60, 64, 67, 0.15);\n",
              "      fill: #174EA6;\n",
              "    }\n",
              "\n",
              "    .colab-df-buttons div {\n",
              "      margin-bottom: 4px;\n",
              "    }\n",
              "\n",
              "    [theme=dark] .colab-df-convert {\n",
              "      background-color: #3B4455;\n",
              "      fill: #D2E3FC;\n",
              "    }\n",
              "\n",
              "    [theme=dark] .colab-df-convert:hover {\n",
              "      background-color: #434B5C;\n",
              "      box-shadow: 0px 1px 3px 1px rgba(0, 0, 0, 0.15);\n",
              "      filter: drop-shadow(0px 1px 2px rgba(0, 0, 0, 0.3));\n",
              "      fill: #FFFFFF;\n",
              "    }\n",
              "  </style>\n",
              "\n",
              "    <script>\n",
              "      const buttonEl =\n",
              "        document.querySelector('#df-29a93436-ebcc-4617-a459-912fca197ee8 button.colab-df-convert');\n",
              "      buttonEl.style.display =\n",
              "        google.colab.kernel.accessAllowed ? 'block' : 'none';\n",
              "\n",
              "      async function convertToInteractive(key) {\n",
              "        const element = document.querySelector('#df-29a93436-ebcc-4617-a459-912fca197ee8');\n",
              "        const dataTable =\n",
              "          await google.colab.kernel.invokeFunction('convertToInteractive',\n",
              "                                                    [key], {});\n",
              "        if (!dataTable) return;\n",
              "\n",
              "        const docLinkHtml = 'Like what you see? Visit the ' +\n",
              "          '<a target=\"_blank\" href=https://colab.research.google.com/notebooks/data_table.ipynb>data table notebook</a>'\n",
              "          + ' to learn more about interactive tables.';\n",
              "        element.innerHTML = '';\n",
              "        dataTable['output_type'] = 'display_data';\n",
              "        await google.colab.output.renderOutput(dataTable, element);\n",
              "        const docLink = document.createElement('div');\n",
              "        docLink.innerHTML = docLinkHtml;\n",
              "        element.appendChild(docLink);\n",
              "      }\n",
              "    </script>\n",
              "  </div>\n",
              "\n",
              "    </div>\n",
              "  </div>\n"
            ]
          },
          "metadata": {},
          "execution_count": 38
        }
      ]
    },
    {
      "cell_type": "code",
      "source": [
        "#Linear Regression\n",
        "\n",
        "import numpy as np\n",
        "import matplotlib.pyplot as plt\n",
        "from sklearn.linear_model import LinearRegression\n",
        "\n",
        "np.random.seed(0)\n",
        "x=2*np.random.rand(100,1)\n",
        "y=4+3*x+np.random.randn(100,1)\n",
        "\n",
        "model=LinearRegression()\n",
        "model.fit(x,y)\n",
        "\n",
        "x_new=np.array([[0],[2]])\n",
        "y_pred=model.predict(x_new)\n",
        "\n",
        "plt.scatter(x,y,label=\"samble data\")\n",
        "plt.plot(x_new,y_pred,'r',label=\"Linear Regression\")\n",
        "plt.xlabel(\"indeoendent variable\")\n",
        "plt.ylabel(\"dependent variable\")\n",
        "plt.legend()\n",
        "plt.title(\"Linear Regression\")"
      ],
      "metadata": {
        "colab": {
          "base_uri": "https://localhost:8080/",
          "height": 489
        },
        "id": "ZPWVNs90uM8I",
        "outputId": "6f0c598a-82cd-408c-9683-e2af141403b9"
      },
      "execution_count": 19,
      "outputs": [
        {
          "output_type": "execute_result",
          "data": {
            "text/plain": [
              "Text(0.5, 1.0, 'Linear Regression')"
            ]
          },
          "metadata": {},
          "execution_count": 19
        },
        {
          "output_type": "display_data",
          "data": {
            "text/plain": [
              "<Figure size 640x480 with 1 Axes>"
            ],
            "image/png": "[encoded data removed]"
          },
          "metadata": {}
        }
      ]
    },
    {
      "cell_type": "code",
      "source": [
        "#neural network\n",
        "import numpy as np\n",
        "from tensorflow import keras\n",
        "from tensorflow.keras.models import Sequential\n",
        "from tensorflow.keras.layers import Dense\n",
        "from sklearn import datasets\n",
        "from sklearn.model_selection import train_test_split\n",
        "from sklearn.preprocessing import StandardScaler,LabelBinarizer\n",
        "\n",
        "data=datasets.load_iris()\n",
        "x=data.data\n",
        "y=data.target\n",
        "\n",
        "X_train,X_test,y_train,y_test=train_test_split(x,y,test_size=0.2,random_state=42)\n",
        "\n",
        "scaler=StandardScaler()\n",
        "X_train=scaler.fit_transform(X_train)\n",
        "X_test=scaler.fit_transform(X_test)\n",
        "\n",
        "lb=LabelBinarizer()\n",
        "y_train=lb.fit_transform(y_train)\n",
        "y_test=lb.fit_transform(y_test)\n",
        "\n",
        "model=Sequential()\n",
        "model.add(Dense(8,input_dim=4,activation=\"relu\"))\n",
        "model.add(Dense(3,activation=\"softmax\"))\n",
        "\n",
        "model.compile(loss='categorical_crossentropy',optimizer='adam',metrics=['accuracy'])\n",
        "model.fit(X_train,y_train,epochs=100, batch_size=15 ,verbose=1)\n",
        "\n"
      ],
      "metadata": {
        "colab": {
          "base_uri": "https://localhost:8080/"
        },
        "id": "G5k2AUxNS0VT",
        "outputId": "a4d7ac9f-796b-4299-85c0-7222c75799fe"
      },
      "execution_count": 21,
      "outputs": [
        {
          "output_type": "stream",
          "name": "stdout",
          "text": [
            "Epoch 1/100\n",
            "2/2 [==============================] - 1s 19ms/step - loss: 2.0722 - accuracy: 0.3083\n",
            "Epoch 2/100\n",
            "2/2 [==============================] - 0s 18ms/step - loss: 2.0528 - accuracy: 0.3083\n",
            "Epoch 3/100\n",
            "2/2 [==============================] - 0s 21ms/step - loss: 2.0330 - accuracy: 0.3083\n",
            "Epoch 4/100\n",
            "2/2 [==============================] - 0s 9ms/step - loss: 2.0145 - accuracy: 0.3167\n",
            "Epoch 5/100\n",
            "2/2 [==============================] - 0s 15ms/step - loss: 1.9961 - accuracy: 0.3167\n",
            "Epoch 6/100\n",
            "2/2 [==============================] - 0s 10ms/step - loss: 1.9774 - accuracy: 0.3250\n",
            "Epoch 7/100\n",
            "2/2 [==============================] - 0s 10ms/step - loss: 1.9585 - accuracy: 0.3250\n",
            "Epoch 8/100\n",
            "2/2 [==============================] - 0s 12ms/step - loss: 1.9410 - accuracy: 0.3250\n",
            "Epoch 9/100\n",
            "2/2 [==============================] - 0s 9ms/step - loss: 1.9219 - accuracy: 0.3333\n",
            "Epoch 10/100\n",
            "2/2 [==============================] - 0s 10ms/step - loss: 1.9046 - accuracy: 0.3333\n",
            "Epoch 11/100\n",
            "2/2 [==============================] - 0s 12ms/step - loss: 1.8861 - accuracy: 0.3333\n",
            "Epoch 12/100\n",
            "2/2 [==============================] - 0s 14ms/step - loss: 1.8672 - accuracy: 0.3333\n",
            "Epoch 13/100\n",
            "2/2 [==============================] - 0s 18ms/step - loss: 1.8497 - accuracy: 0.3500\n",
            "Epoch 14/100\n",
            "2/2 [==============================] - 0s 10ms/step - loss: 1.8309 - accuracy: 0.3583\n",
            "Epoch 15/100\n",
            "2/2 [==============================] - 0s 14ms/step - loss: 1.8132 - accuracy: 0.3667\n",
            "Epoch 16/100\n",
            "2/2 [==============================] - 0s 11ms/step - loss: 1.7949 - accuracy: 0.3667\n",
            "Epoch 17/100\n",
            "2/2 [==============================] - 0s 32ms/step - loss: 1.7766 - accuracy: 0.3667\n",
            "Epoch 18/100\n",
            "2/2 [==============================] - 0s 25ms/step - loss: 1.7590 - accuracy: 0.3750\n",
            "Epoch 19/100\n",
            "2/2 [==============================] - 0s 25ms/step - loss: 1.7412 - accuracy: 0.3750\n",
            "Epoch 20/100\n",
            "2/2 [==============================] - 0s 34ms/step - loss: 1.7232 - accuracy: 0.3750\n",
            "Epoch 21/100\n",
            "2/2 [==============================] - 0s 35ms/step - loss: 1.7059 - accuracy: 0.3833\n",
            "Epoch 22/100\n",
            "2/2 [==============================] - 0s 33ms/step - loss: 1.6877 - accuracy: 0.3833\n",
            "Epoch 23/100\n",
            "2/2 [==============================] - 0s 23ms/step - loss: 1.6700 - accuracy: 0.3750\n",
            "Epoch 24/100\n",
            "2/2 [==============================] - 0s 31ms/step - loss: 1.6524 - accuracy: 0.3750\n",
            "Epoch 25/100\n",
            "2/2 [==============================] - 0s 38ms/step - loss: 1.6345 - accuracy: 0.3750\n",
            "Epoch 26/100\n",
            "2/2 [==============================] - 0s 19ms/step - loss: 1.6167 - accuracy: 0.3750\n",
            "Epoch 27/100\n",
            "2/2 [==============================] - 0s 32ms/step - loss: 1.5991 - accuracy: 0.3750\n",
            "Epoch 28/100\n",
            "2/2 [==============================] - 0s 17ms/step - loss: 1.5814 - accuracy: 0.3667\n",
            "Epoch 29/100\n",
            "2/2 [==============================] - 0s 14ms/step - loss: 1.5632 - accuracy: 0.3667\n",
            "Epoch 30/100\n",
            "2/2 [==============================] - 0s 10ms/step - loss: 1.5466 - accuracy: 0.3667\n",
            "Epoch 31/100\n",
            "2/2 [==============================] - 0s 10ms/step - loss: 1.5280 - accuracy: 0.3667\n",
            "Epoch 32/100\n",
            "2/2 [==============================] - 0s 9ms/step - loss: 1.5108 - accuracy: 0.3667\n",
            "Epoch 33/100\n",
            "2/2 [==============================] - 0s 9ms/step - loss: 1.4933 - accuracy: 0.3750\n",
            "Epoch 34/100\n",
            "2/2 [==============================] - 0s 8ms/step - loss: 1.4763 - accuracy: 0.3833\n",
            "Epoch 35/100\n",
            "2/2 [==============================] - 0s 8ms/step - loss: 1.4588 - accuracy: 0.3917\n",
            "Epoch 36/100\n",
            "2/2 [==============================] - 0s 8ms/step - loss: 1.4409 - accuracy: 0.3917\n",
            "Epoch 37/100\n",
            "2/2 [==============================] - 0s 13ms/step - loss: 1.4241 - accuracy: 0.4000\n",
            "Epoch 38/100\n",
            "2/2 [==============================] - 0s 10ms/step - loss: 1.4069 - accuracy: 0.4000\n",
            "Epoch 39/100\n",
            "2/2 [==============================] - 0s 8ms/step - loss: 1.3900 - accuracy: 0.4000\n",
            "Epoch 40/100\n",
            "2/2 [==============================] - 0s 9ms/step - loss: 1.3721 - accuracy: 0.4000\n",
            "Epoch 41/100\n",
            "2/2 [==============================] - 0s 8ms/step - loss: 1.3543 - accuracy: 0.4000\n",
            "Epoch 42/100\n",
            "2/2 [==============================] - 0s 9ms/step - loss: 1.3376 - accuracy: 0.4083\n",
            "Epoch 43/100\n",
            "2/2 [==============================] - 0s 9ms/step - loss: 1.3200 - accuracy: 0.4083\n",
            "Epoch 44/100\n",
            "2/2 [==============================] - 0s 10ms/step - loss: 1.3024 - accuracy: 0.4083\n",
            "Epoch 45/100\n",
            "2/2 [==============================] - 0s 10ms/step - loss: 1.2855 - accuracy: 0.4083\n",
            "Epoch 46/100\n",
            "2/2 [==============================] - 0s 13ms/step - loss: 1.2677 - accuracy: 0.4083\n",
            "Epoch 47/100\n",
            "2/2 [==============================] - 0s 10ms/step - loss: 1.2509 - accuracy: 0.4167\n",
            "Epoch 48/100\n",
            "2/2 [==============================] - 0s 11ms/step - loss: 1.2337 - accuracy: 0.4250\n",
            "Epoch 49/100\n",
            "2/2 [==============================] - 0s 10ms/step - loss: 1.2172 - accuracy: 0.4167\n",
            "Epoch 50/100\n",
            "2/2 [==============================] - 0s 10ms/step - loss: 1.2013 - accuracy: 0.4167\n",
            "Epoch 51/100\n",
            "2/2 [==============================] - 0s 10ms/step - loss: 1.1849 - accuracy: 0.4167\n",
            "Epoch 52/100\n",
            "2/2 [==============================] - 0s 10ms/step - loss: 1.1694 - accuracy: 0.4167\n",
            "Epoch 53/100\n",
            "2/2 [==============================] - 0s 9ms/step - loss: 1.1538 - accuracy: 0.4167\n",
            "Epoch 54/100\n",
            "2/2 [==============================] - 0s 10ms/step - loss: 1.1389 - accuracy: 0.4167\n",
            "Epoch 55/100\n",
            "2/2 [==============================] - 0s 9ms/step - loss: 1.1245 - accuracy: 0.4167\n",
            "Epoch 56/100\n",
            "2/2 [==============================] - 0s 10ms/step - loss: 1.1095 - accuracy: 0.4167\n",
            "Epoch 57/100\n",
            "2/2 [==============================] - 0s 10ms/step - loss: 1.0956 - accuracy: 0.4167\n",
            "Epoch 58/100\n",
            "2/2 [==============================] - 0s 10ms/step - loss: 1.0809 - accuracy: 0.4167\n",
            "Epoch 59/100\n",
            "2/2 [==============================] - 0s 10ms/step - loss: 1.0671 - accuracy: 0.4167\n",
            "Epoch 60/100\n",
            "2/2 [==============================] - 0s 10ms/step - loss: 1.0535 - accuracy: 0.4083\n",
            "Epoch 61/100\n",
            "2/2 [==============================] - 0s 8ms/step - loss: 1.0389 - accuracy: 0.4167\n",
            "Epoch 62/100\n",
            "2/2 [==============================] - 0s 8ms/step - loss: 1.0254 - accuracy: 0.4167\n",
            "Epoch 63/100\n",
            "2/2 [==============================] - 0s 9ms/step - loss: 1.0118 - accuracy: 0.4167\n",
            "Epoch 64/100\n",
            "2/2 [==============================] - 0s 9ms/step - loss: 0.9985 - accuracy: 0.4250\n",
            "Epoch 65/100\n",
            "2/2 [==============================] - 0s 9ms/step - loss: 0.9852 - accuracy: 0.4333\n",
            "Epoch 66/100\n",
            "2/2 [==============================] - 0s 8ms/step - loss: 0.9722 - accuracy: 0.4333\n",
            "Epoch 67/100\n",
            "2/2 [==============================] - 0s 9ms/step - loss: 0.9596 - accuracy: 0.4500\n",
            "Epoch 68/100\n",
            "2/2 [==============================] - 0s 10ms/step - loss: 0.9475 - accuracy: 0.4583\n",
            "Epoch 69/100\n",
            "2/2 [==============================] - 0s 9ms/step - loss: 0.9349 - accuracy: 0.4917\n",
            "Epoch 70/100\n",
            "2/2 [==============================] - 0s 10ms/step - loss: 0.9231 - accuracy: 0.5250\n",
            "Epoch 71/100\n",
            "2/2 [==============================] - 0s 9ms/step - loss: 0.9115 - accuracy: 0.5417\n",
            "Epoch 72/100\n",
            "2/2 [==============================] - 0s 9ms/step - loss: 0.9002 - accuracy: 0.5917\n",
            "Epoch 73/100\n",
            "2/2 [==============================] - 0s 9ms/step - loss: 0.8889 - accuracy: 0.6250\n",
            "Epoch 74/100\n",
            "2/2 [==============================] - 0s 9ms/step - loss: 0.8781 - accuracy: 0.6417\n",
            "Epoch 75/100\n",
            "2/2 [==============================] - 0s 9ms/step - loss: 0.8670 - accuracy: 0.6583\n",
            "Epoch 76/100\n",
            "2/2 [==============================] - 0s 9ms/step - loss: 0.8566 - accuracy: 0.7000\n",
            "Epoch 77/100\n",
            "2/2 [==============================] - 0s 9ms/step - loss: 0.8465 - accuracy: 0.7083\n",
            "Epoch 78/100\n",
            "2/2 [==============================] - 0s 8ms/step - loss: 0.8363 - accuracy: 0.7417\n",
            "Epoch 79/100\n",
            "2/2 [==============================] - 0s 8ms/step - loss: 0.8265 - accuracy: 0.7417\n",
            "Epoch 80/100\n",
            "2/2 [==============================] - 0s 8ms/step - loss: 0.8168 - accuracy: 0.7500\n",
            "Epoch 81/100\n",
            "2/2 [==============================] - 0s 8ms/step - loss: 0.8073 - accuracy: 0.7500\n",
            "Epoch 82/100\n",
            "2/2 [==============================] - 0s 9ms/step - loss: 0.7982 - accuracy: 0.7500\n",
            "Epoch 83/100\n",
            "2/2 [==============================] - 0s 9ms/step - loss: 0.7892 - accuracy: 0.7583\n",
            "Epoch 84/100\n",
            "2/2 [==============================] - 0s 8ms/step - loss: 0.7806 - accuracy: 0.7667\n",
            "Epoch 85/100\n",
            "2/2 [==============================] - 0s 8ms/step - loss: 0.7721 - accuracy: 0.7750\n",
            "Epoch 86/100\n",
            "2/2 [==============================] - 0s 8ms/step - loss: 0.7639 - accuracy: 0.7750\n",
            "Epoch 87/100\n",
            "2/2 [==============================] - 0s 8ms/step - loss: 0.7562 - accuracy: 0.7750\n",
            "Epoch 88/100\n",
            "2/2 [==============================] - 0s 13ms/step - loss: 0.7488 - accuracy: 0.7750\n",
            "Epoch 89/100\n",
            "2/2 [==============================] - 0s 10ms/step - loss: 0.7413 - accuracy: 0.7750\n",
            "Epoch 90/100\n",
            "2/2 [==============================] - 0s 11ms/step - loss: 0.7342 - accuracy: 0.7750\n",
            "Epoch 91/100\n",
            "2/2 [==============================] - 0s 9ms/step - loss: 0.7272 - accuracy: 0.7750\n",
            "Epoch 92/100\n",
            "2/2 [==============================] - 0s 9ms/step - loss: 0.7204 - accuracy: 0.7750\n",
            "Epoch 93/100\n",
            "2/2 [==============================] - 0s 8ms/step - loss: 0.7137 - accuracy: 0.7750\n",
            "Epoch 94/100\n",
            "2/2 [==============================] - 0s 13ms/step - loss: 0.7072 - accuracy: 0.7833\n",
            "Epoch 95/100\n",
            "2/2 [==============================] - 0s 9ms/step - loss: 0.7009 - accuracy: 0.7833\n",
            "Epoch 96/100\n",
            "2/2 [==============================] - 0s 9ms/step - loss: 0.6946 - accuracy: 0.8000\n",
            "Epoch 97/100\n",
            "2/2 [==============================] - 0s 10ms/step - loss: 0.6884 - accuracy: 0.8000\n",
            "Epoch 98/100\n",
            "2/2 [==============================] - 0s 10ms/step - loss: 0.6825 - accuracy: 0.8000\n",
            "Epoch 99/100\n",
            "2/2 [==============================] - 0s 8ms/step - loss: 0.6766 - accuracy: 0.8000\n",
            "Epoch 100/100\n",
            "2/2 [==============================] - 0s 9ms/step - loss: 0.6709 - accuracy: 0.8000\n"
          ]
        },
        {
          "output_type": "execute_result",
          "data": {
            "text/plain": [
              "<keras.src.callbacks.History at 0x79fade722230>"
            ]
          },
          "metadata": {},
          "execution_count": 21
        }
      ]
    },
    {
      "cell_type": "code",
      "source": [
        "loss,accuracy=model.evaluate(X_test,y_test)\n",
        "print(\"loss \",loss)\n",
        "print(\"accuracy \",accuracy)"
      ],
      "metadata": {
        "colab": {
          "base_uri": "https://localhost:8080/"
        },
        "id": "_SBQZiyOXwz4",
        "outputId": "365ccd7b-dc93-4a89-8c37-b8c864dcd59b"
      },
      "execution_count": null,
      "outputs": [
        {
          "output_type": "stream",
          "name": "stdout",
          "text": [
            "1/1 [==============================] - 0s 239ms/step - loss: 0.6388 - accuracy: 0.8000\n",
            "loss  0.6388170123100281\n",
            "accuracy  0.800000011920929\n"
          ]
        }
      ]
    },
    {
      "cell_type": "code",
      "source": [
        "import matplotlib.pyplot as plt\n",
        "from keras.datasets import mnist\n",
        "\n",
        "(x_train,y_train),(x_test,y_test)=mnist.load_data()\n",
        "print(x_train.shape)\n",
        "print(x_test.shape)\n",
        "\n",
        "print(y_train)\n",
        "print(y_test)\n",
        "fig,axes=plt.subplots(1,5,sharex=False,sharey=True,figsize=(10,4))\n",
        "\n",
        "for i in range(5):\n",
        "  axes[i].set_title(str(y_train[i]))\n",
        "  axes[i].imshow(x_train[i],cmap='gray')\n",
        "  axes[i].get_yaxis().set_visible(False)\n",
        "plt.show()"
      ],
      "metadata": {
        "colab": {
          "base_uri": "https://localhost:8080/",
          "height": 320
        },
        "id": "rnsxr9c4Ybys",
        "outputId": "a139fabd-c616-464d-9218-6512307a397b"
      },
      "execution_count": 1,
      "outputs": [
        {
          "output_type": "stream",
          "name": "stdout",
          "text": [
            "Downloading data from https://storage.googleapis.com/tensorflow/tf-keras-datasets/mnist.npz\n",
            "11490434/11490434 [==============================] - 0s 0us/step\n",
            "(60000, 28, 28)\n",
            "(10000, 28, 28)\n",
            "[5 0 4 ... 5 6 8]\n",
            "[7 2 1 ... 4 5 6]\n"
          ]
        },
        {
          "output_type": "display_data",
          "data": {
            "text/plain": [
              "<Figure size 1000x400 with 5 Axes>"
            ],
            "image/png": "[encoded data removed]"
          },
          "metadata": {}
        }
      ]
    },
    {
      "cell_type": "code",
      "source": [
        "import matplotlib.pyplot as plt\n",
        "import pandas as pd\n",
        "from sklearn.datasets import load_iris\n",
        "from sklearn.cluster import KMeans\n",
        "\n",
        "iris=load_iris()\n",
        "x=iris.data\n",
        "y=iris.target\n",
        "data=pd.DataFrame(x,columns=iris.feature_names)\n",
        "\n",
        "kmeans=KMeans(n_clusters=3)\n",
        "kmeans.fit(x)"
      ],
      "metadata": {
        "id": "6fIdhMNenEs_",
        "colab": {
          "base_uri": "https://localhost:8080/",
          "height": 129
        },
        "outputId": "df5e50e3-beea-47c5-dd24-65ffab98bdbe"
      },
      "execution_count": 22,
      "outputs": [
        {
          "output_type": "stream",
          "name": "stderr",
          "text": [
            "/usr/local/lib/python3.10/dist-packages/sklearn/cluster/_kmeans.py:870: FutureWarning: The default value of `n_init` will change from 10 to 'auto' in 1.4. Set the value of `n_init` explicitly to suppress the warning\n",
            "  warnings.warn(\n"
          ]
        },
        {
          "output_type": "execute_result",
          "data": {
            "text/plain": [
              "KMeans(n_clusters=3)"
            ],
            "text/html": [
              "<style>#sk-container-id-4 {color: black;background-color: white;}#sk-container-id-4 pre{padding: 0;}#sk-container-id-4 div.sk-toggleable {background-color: white;}#sk-container-id-4 label.sk-toggleable__label {cursor: pointer;display: block;width: 100%;margin-bottom: 0;padding: 0.3em;box-sizing: border-box;text-align: center;}#sk-container-id-4 label.sk-toggleable__label-arrow:before {content: \"▸\";float: left;margin-right: 0.25em;color: #696969;}#sk-container-id-4 label.sk-toggleable__label-arrow:hover:before {color: black;}#sk-container-id-4 div.sk-estimator:hover label.sk-toggleable__label-arrow:before {color: black;}#sk-container-id-4 div.sk-toggleable__content {max-height: 0;max-width: 0;overflow: hidden;text-align: left;background-color: #f0f8ff;}#sk-container-id-4 div.sk-toggleable__content pre {margin: 0.2em;color: black;border-radius: 0.25em;background-color: #f0f8ff;}#sk-container-id-4 input.sk-toggleable__control:checked~div.sk-toggleable__content {max-height: 200px;max-width: 100%;overflow: auto;}#sk-container-id-4 input.sk-toggleable__control:checked~label.sk-toggleable__label-arrow:before {content: \"▾\";}#sk-container-id-4 div.sk-estimator input.sk-toggleable__control:checked~label.sk-toggleable__label {background-color: #d4ebff;}#sk-container-id-4 div.sk-label input.sk-toggleable__control:checked~label.sk-toggleable__label {background-color: #d4ebff;}#sk-container-id-4 input.sk-hidden--visually {border: 0;clip: rect(1px 1px 1px 1px);clip: rect(1px, 1px, 1px, 1px);height: 1px;margin: -1px;overflow: hidden;padding: 0;position: absolute;width: 1px;}#sk-container-id-4 div.sk-estimator {font-family: monospace;background-color: #f0f8ff;border: 1px dotted black;border-radius: 0.25em;box-sizing: border-box;margin-bottom: 0.5em;}#sk-container-id-4 div.sk-estimator:hover {background-color: #d4ebff;}#sk-container-id-4 div.sk-parallel-item::after {content: \"\";width: 100%;border-bottom: 1px solid gray;flex-grow: 1;}#sk-container-id-4 div.sk-label:hover label.sk-toggleable__label {background-color: #d4ebff;}#sk-container-id-4 div.sk-serial::before {content: \"\";position: absolute;border-left: 1px solid gray;box-sizing: border-box;top: 0;bottom: 0;left: 50%;z-index: 0;}#sk-container-id-4 div.sk-serial {display: flex;flex-direction: column;align-items: center;background-color: white;padding-right: 0.2em;padding-left: 0.2em;position: relative;}#sk-container-id-4 div.sk-item {position: relative;z-index: 1;}#sk-container-id-4 div.sk-parallel {display: flex;align-items: stretch;justify-content: center;background-color: white;position: relative;}#sk-container-id-4 div.sk-item::before, #sk-container-id-4 div.sk-parallel-item::before {content: \"\";position: absolute;border-left: 1px solid gray;box-sizing: border-box;top: 0;bottom: 0;left: 50%;z-index: -1;}#sk-container-id-4 div.sk-parallel-item {display: flex;flex-direction: column;z-index: 1;position: relative;background-color: white;}#sk-container-id-4 div.sk-parallel-item:first-child::after {align-self: flex-end;width: 50%;}#sk-container-id-4 div.sk-parallel-item:last-child::after {align-self: flex-start;width: 50%;}#sk-container-id-4 div.sk-parallel-item:only-child::after {width: 0;}#sk-container-id-4 div.sk-dashed-wrapped {border: 1px dashed gray;margin: 0 0.4em 0.5em 0.4em;box-sizing: border-box;padding-bottom: 0.4em;background-color: white;}#sk-container-id-4 div.sk-label label {font-family: monospace;font-weight: bold;display: inline-block;line-height: 1.2em;}#sk-container-id-4 div.sk-label-container {text-align: center;}#sk-container-id-4 div.sk-container {/* jupyter's `normalize.less` sets `[hidden] { display: none; }` but bootstrap.min.css set `[hidden] { display: none !important; }` so we also need the `!important` here to be able to override the default hidden behavior on the sphinx rendered scikit-learn.org. See: https://github.com/scikit-learn/scikit-learn/issues/21755 */display: inline-block !important;position: relative;}#sk-container-id-4 div.sk-text-repr-fallback {display: none;}</style><div id=\"sk-container-id-4\" class=\"sk-top-container\"><div class=\"sk-text-repr-fallback\"><pre>KMeans(n_clusters=3)</pre><b>In a Jupyter environment, please rerun this cell to show the HTML representation or trust the notebook. <br />On GitHub, the HTML representation is unable to render, please try loading this page with nbviewer.org.</b></div><div class=\"sk-container\" hidden><div class=\"sk-item\"><div class=\"sk-estimator sk-toggleable\"><input class=\"sk-toggleable__control sk-hidden--visually\" id=\"sk-estimator-id-4\" type=\"checkbox\" checked><label for=\"sk-estimator-id-4\" class=\"sk-toggleable__label sk-toggleable__label-arrow\">KMeans</label><div class=\"sk-toggleable__content\"><pre>KMeans(n_clusters=3)</pre></div></div></div></div></div>"
            ]
          },
          "metadata": {},
          "execution_count": 22
        }
      ]
    },
    {
      "cell_type": "code",
      "source": [
        "data['cluster']=kmeans.labels_\n",
        "plt.scatter(data['sepal length (cm)'],data['sepal width (cm)'],c=data['cluster'],cmap=\"rainbow\")\n",
        "plt.xlabel(\"sepal length(cm)\")\n",
        "plt.ylabel(\"sepal width\")\n",
        "centers=kmeans.cluster_centers_\n",
        "plt.scatter(centers[:, 0],centers[:, 1],c=\"black\",s=200,alpha=0.8,label=\"cluster centers\")\n",
        "plt.legend()\n",
        "plt.show()"
      ],
      "metadata": {
        "colab": {
          "base_uri": "https://localhost:8080/",
          "height": 452
        },
        "id": "XsXfLi-nDJtc",
        "outputId": "d2fef358-8984-4efe-838a-604f105ffd62"
      },
      "execution_count": 29,
      "outputs": [
        {
          "output_type": "display_data",
          "data": {
            "text/plain": [
              "<Figure size 640x480 with 1 Axes>"
            ],
            "image/png": "[encoded data removed]"
          },
          "metadata": {}
        }
      ]
    },
    {
      "cell_type": "code",
      "source": [
        "#multiple linear regression\n",
        "import pandas as pd\n",
        "import matplotlib.pyplot as plt\n",
        "from sklearn.datasets import load_iris\n",
        "from sklearn.model_selection import train_test_split\n",
        "from sklearn.metrics import mean_squared_error,r2_score\n",
        "from sklearn.linear_model import LinearRegression\n",
        "\n",
        "iris=load_iris()\n",
        "data=pd.DataFrame(iris.data,columns=iris.feature_names)\n",
        "target=data['petal length (cm)']\n",
        "x_train,x_test,y_train,y_test=train_test_split(data,target,test_size=0.2,random_state=42)\n",
        "\n",
        "model=LinearRegression()\n",
        "model.fit(x_train,y_train)\n",
        "\n",
        "y_pred=model.predict(x_test)\n",
        "mse=mean_squared_error(y_test,y_pred)\n",
        "r2=r2_score(y_test,y_pred)\n",
        "plt.title(\"Actual vs predicted\")\n",
        "plt.xlabel(\"actual\")\n",
        "plt.ylabel(\"predicted\")\n",
        "plt.scatter(y_test,y_pred)"
      ],
      "metadata": {
        "colab": {
          "base_uri": "https://localhost:8080/",
          "height": 489
        },
        "id": "oPt2rGpqQc5G",
        "outputId": "dbc58fc5-3186-4df4-90a8-47206e54cf1f"
      },
      "execution_count": 27,
      "outputs": [
        {
          "output_type": "execute_result",
          "data": {
            "text/plain": [
              "<matplotlib.collections.PathCollection at 0x79fad7052740>"
            ]
          },
          "metadata": {},
          "execution_count": 27
        },
        {
          "output_type": "display_data",
          "data": {
            "text/plain": [
              "<Figure size 640x480 with 1 Axes>"
            ],
            "image/png": "[encoded data removed]"
          },
          "metadata": {}
        }
      ]
    },
    {
      "cell_type": "code",
      "source": [
        "print(\"mean square error \",mse)"
      ],
      "metadata": {
        "id": "g1-37rbHUCoX"
      },
      "execution_count": null,
      "outputs": []
    }
  ]
}